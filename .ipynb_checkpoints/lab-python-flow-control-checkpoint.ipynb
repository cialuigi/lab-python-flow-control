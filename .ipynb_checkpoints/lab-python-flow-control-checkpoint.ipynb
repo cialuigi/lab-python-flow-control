{
 "cells": [
  {
   "cell_type": "markdown",
   "id": "d3bfc191-8885-42ee-b0a0-bbab867c6f9f",
   "metadata": {
    "tags": []
   },
   "source": [
    "# Lab | Flow Control"
   ]
  },
  {
   "cell_type": "markdown",
   "id": "3851fcd1-cf98-4653-9c89-e003b7ec9400",
   "metadata": {},
   "source": [
    "## Exercise: Managing Customer Orders Optimized\n",
    "\n",
    "In the last lab, you were starting an online store that sells various products. To ensure smooth operations, you developed a program that manages customer orders and inventory.\n",
    "\n",
    "You did so without using flow control. Let's go a step further and improve this code.\n",
    "\n",
    "Follow the steps below to complete the exercise:\n",
    "\n",
    "1. Look at your code from the lab data structures, and improve repeated code with loops.\n",
    "\n",
    "2. Instead of asking the user to input the name of three products that a customer wants to order, do the following:\n",
    "    \n",
    "    a. Prompt the user to enter the name of a product that a customer wants to order.\n",
    "    \n",
    "    b. Add the product name to the \"customer_orders\" set.\n",
    "    \n",
    "    c. Ask the user if they want to add another product (yes/no).\n",
    "    \n",
    "    d. Continue the loop until the user does not want to add another product.\n",
    "\n",
    "3. Instead of updating the inventory by subtracting 1 from the quantity of each product, only do it for  the products that were ordered (those in \"customer_orders\")."
   ]
  },
  {
   "cell_type": "code",
   "execution_count": 1,
   "id": "3232c3d4",
   "metadata": {},
   "outputs": [],
   "source": [
    "products = [\"t-shirt\", \"mug\", \"hat\", \"book\", \"keychain\"]\n",
    "\n",
    "inventory = {}"
   ]
  },
  {
   "cell_type": "code",
   "execution_count": 2,
   "id": "a7645f98",
   "metadata": {},
   "outputs": [
    {
     "name": "stdout",
     "output_type": "stream",
     "text": [
      "How many t-shirts are in inventory? 24\n",
      "How many mugs are in inventory? 24\n",
      "How many hats are in inventory? 24\n",
      "How many books are in inventory? 24\n",
      "How many keychains are in inventory? 24\n"
     ]
    }
   ],
   "source": [
    "# Step 1: Input inventory quantities for each product\n",
    "for product in products:\n",
    "    quantity = int(input(f\"How many {product}s are in inventory? \"))\n",
    "    inventory[product] = quantity\n"
   ]
  },
  {
   "cell_type": "code",
   "execution_count": 3,
   "id": "7aeac931",
   "metadata": {},
   "outputs": [
    {
     "name": "stdout",
     "output_type": "stream",
     "text": [
      "What product are you interested in buying? hat\n",
      "Do you want to add another product? (yes/no) yes\n",
      "What product are you interested in buying? mug\n",
      "Do you want to add another product? (yes/no) yes\n",
      "What product are you interested in buying? book\n",
      "Do you want to add another product? (yes/no) no\n",
      "Customer Orders: {'book', 'mug', 'hat'}\n"
     ]
    }
   ],
   "source": [
    "# Step 2: Ask the user what products they want to order\n",
    "customer_orders = set()\n",
    "\n",
    "while True:\n",
    "    product = input(\"What product are you interested in buying? \")\n",
    "    customer_orders.add(product)\n",
    "    \n",
    "    add_another = input(\"Do you want to add another product? (yes/no) \")\n",
    "    if add_another.lower() != 'yes':\n",
    "        break\n",
    "\n",
    "print(\"Customer Orders:\", customer_orders)\n"
   ]
  },
  {
   "cell_type": "code",
   "execution_count": 4,
   "id": "105deb80",
   "metadata": {},
   "outputs": [
    {
     "name": "stdout",
     "output_type": "stream",
     "text": [
      "Order Statistics:\n",
      "Total Products Ordered: 3\n",
      "Percentage of Products Ordered: 60.0 %\n"
     ]
    }
   ],
   "source": [
    "# Step 3: Calculate order statistics\n",
    "total_products_ordered = len(customer_orders)\n",
    "percentage_ordered = (total_products_ordered / len(products)) * 100\n",
    "order_status = (total_products_ordered, percentage_ordered)\n",
    "\n",
    "print(\"Order Statistics:\")\n",
    "print(\"Total Products Ordered:\", order_status[0])\n",
    "print(\"Percentage of Products Ordered:\", order_status[1], \"%\")"
   ]
  },
  {
   "cell_type": "code",
   "execution_count": 5,
   "id": "ec9974a5",
   "metadata": {},
   "outputs": [
    {
     "name": "stdout",
     "output_type": "stream",
     "text": [
      "Updated Inventory:\n",
      "t-shirt : 24\n",
      "mug : 23\n",
      "hat : 23\n",
      "book : 23\n",
      "keychain : 24\n"
     ]
    }
   ],
   "source": [
    "# Step 4: Update inventory for ordered products only\n",
    "for product in customer_orders:\n",
    "    inventory[product] -= 1\n",
    "\n",
    "print(\"Updated Inventory:\")\n",
    "for product, quantity in inventory.items():\n",
    "    print(product, \":\", quantity)\n"
   ]
  },
  {
   "cell_type": "code",
   "execution_count": null,
   "id": "7aeee98f",
   "metadata": {},
   "outputs": [],
   "source": []
  }
 ],
 "metadata": {
  "kernelspec": {
   "display_name": "Python 3 (ipykernel)",
   "language": "python",
   "name": "python3"
  },
  "language_info": {
   "codemirror_mode": {
    "name": "ipython",
    "version": 3
   },
   "file_extension": ".py",
   "mimetype": "text/x-python",
   "name": "python",
   "nbconvert_exporter": "python",
   "pygments_lexer": "ipython3",
   "version": "3.11.7"
  }
 },
 "nbformat": 4,
 "nbformat_minor": 5
}
